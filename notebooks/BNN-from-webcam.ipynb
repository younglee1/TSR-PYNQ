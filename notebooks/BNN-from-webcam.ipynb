{
 "cells": [
  {
   "cell_type": "markdown",
   "metadata": {
    "deletable": true,
    "editable": true
   },
   "source": [
    "# BNN on Pynq\n",
    "\n",
    "This notebook covers how to use Binary Neural Networks on Pynq. \n",
    "It shows an example of handwritten digit recognition using a binarized neural network composed of 4 fully connected layers with 1024 neurons each, trained on the MNIST dataset of handwritten digits. \n",
    "In order to reproduce this notebook, you will need an external USB Camera connected to the PYNQ Board.\n",
    "\n",
    "## 1.Instantiate the classifier\n",
    "Creating a classifier will automatically download the correct bitstream onto the device and load the weights trained on the specified dataset. By default there is one set of weights for the LFC network, the MNIST"
   ]
  },
  {
   "cell_type": "code",
   "execution_count": null,
   "metadata": {
    "collapsed": false,
    "deletable": true,
    "editable": true
   },
   "outputs": [],
   "source": [
    "import bnn\n",
    "print(bnn.available_params(bnn.NETWORK_LFC))\n",
    "\n",
    "classifier = bnn.PynqBNN(network=bnn.NETWORK_LFC)"
   ]
  },
  {
   "cell_type": "markdown",
   "metadata": {
    "deletable": true,
    "editable": true
   },
   "source": [
    "# 2. Download the network parameters\n",
    "The parameters of the network are downloaded in the Programmable logic memory, storing the trained weights on the MNIST dataset. "
   ]
  },
  {
   "cell_type": "code",
   "execution_count": null,
   "metadata": {
    "collapsed": false,
    "deletable": true,
    "editable": true
   },
   "outputs": [],
   "source": [
    "classifier.load_parameters(\"mnist\")"
   ]
  },
  {
   "cell_type": "markdown",
   "metadata": {
    "deletable": true,
    "editable": true
   },
   "source": [
    "## 3. Load the image from the camera\n",
    "The image is captured from the external USB camera and stored locally. The image is then enhanced in contract and brightness to remove background noise. \n",
    "The resulting image should show the digit on a white background:"
   ]
  },
  {
   "cell_type": "code",
   "execution_count": null,
   "metadata": {
    "collapsed": false,
    "deletable": true,
    "editable": true
   },
   "outputs": [],
   "source": [
    "from PIL import Image as PIL_Image\n",
    "from PIL import ImageEnhance\n",
    "from PIL import ImageOps\n",
    "\n",
    "orig_img_path = '/home/xilinx/image.jpg'\n",
    "!fswebcam  --no-banner --save {orig_img_path} -d /dev/video0 2> /dev/null # Loading the image from the webcam\n",
    "\n",
    "img = PIL_Image.open(orig_img_path).convert(\"L\")                          # convert in black and white\n",
    "#Image enhancement                \n",
    "contr = ImageEnhance.Contrast(img)\n",
    "img = contr.enhance(3)                                                    # The enhancement values (contrast and brightness) \n",
    "bright = ImageEnhance.Brightness(img)                                     # depends on backgroud, external lights etc\n",
    "img = bright.enhance(4.0)          \n",
    "\n",
    "img = img.rotate(180)                                                     # Rotate the image (depending on camera orientation)\n",
    "#Adding a border for future cropping\n",
    "img = ImageOps.expand(img,border=80,fill='white') \n",
    "img"
   ]
  },
  {
   "cell_type": "markdown",
   "metadata": {
    "deletable": true,
    "editable": true
   },
   "source": [
    "## 4. Evaluate digit location in the image\n",
    "The center of mass of the image is evaluated to properly crop the image and extract the written digit only. "
   ]
  },
  {
   "cell_type": "code",
   "execution_count": null,
   "metadata": {
    "collapsed": false,
    "deletable": true,
    "editable": true
   },
   "outputs": [],
   "source": [
    "from PIL import Image as PIL_Image\n",
    "import numpy as np\n",
    "import math\n",
    "threshold = 180  \n",
    "img = img.point(lambda p: p > threshold and 255)  \n",
    "immat = img.load()\n",
    "(X, Y) = img.size\n",
    "m = np.zeros((X, Y))\n",
    "# Spanning the image to evaluate center of mass\n",
    "for x in range(X):\n",
    "    for y in range(Y):\n",
    "        m[x, y] = immat[(x, y)] <= 250\n",
    "m = m / np.sum(np.sum(m))\n",
    "dx = np.sum(m, 1)\n",
    "dy = np.sum(m, 0)\n",
    "\n",
    "# Evalate center of mass\n",
    "cx = math.ceil(np.sum(dx * np.arange(X)))\n",
    "cy = math.ceil(np.sum(dy * np.arange(Y)))\n",
    "img = img.crop((cx-80,cy-80,cx+80,cy+80))\n",
    "\n",
    "img"
   ]
  },
  {
   "cell_type": "markdown",
   "metadata": {
    "deletable": true,
    "editable": true
   },
   "source": [
    "## 5. Convert to BNN input format\n",
    "The image is resized to comply with the MNIST standard. The image is resized at 28x28 pixels and the colors inverted. "
   ]
  },
  {
   "cell_type": "code",
   "execution_count": null,
   "metadata": {
    "collapsed": false,
    "deletable": true,
    "editable": true
   },
   "outputs": [],
   "source": [
    "from array import *\n",
    "from PIL import Image as PIL_Image\n",
    "#Resize the image and invert it (white on black)\n",
    "smallimg = img.resize((28, 28))\n",
    "smallimg = ImageOps.invert(smallimg)\n",
    "\n",
    "\n",
    "data_image = array('B')\n",
    "\n",
    "pixel = smallimg.load()\n",
    "for x in range(0,28):\n",
    "\tfor y in range(0,28):\n",
    "\t\tdata_image.append(pixel[y,x])      \n",
    "        \n",
    "# Setting up the header of the MNIST format file        \n",
    "hexval = \"{0:#0{1}x}\".format(1,6)\n",
    "header = array('B')\n",
    "header.extend([0,0,8,1,0,0])\n",
    "header.append(int('0x'+hexval[2:][:2],16))\n",
    "header.append(int('0x'+hexval[2:][2:],16))\n",
    "header.extend([0,0,0,28,0,0,0,28])\n",
    "header[3] = 3 # Changing MSB for image data (0x00000803)\n",
    "\n",
    "data_image = header + data_image\n",
    "output_file = open('/home/xilinx/image.images-idx3-ubyte', 'wb')\n",
    "data_image.tofile(output_file)\n",
    "output_file.close()\n",
    "smallimg"
   ]
  },
  {
   "cell_type": "markdown",
   "metadata": {
    "deletable": true,
    "editable": true
   },
   "source": [
    "# 6. Launching BNN in hardware\n",
    "The image is passed in the PL and the inference is performed"
   ]
  },
  {
   "cell_type": "code",
   "execution_count": null,
   "metadata": {
    "collapsed": false,
    "deletable": true,
    "editable": true,
    "scrolled": false
   },
   "outputs": [],
   "source": [
    "classifier.inference(\"/home/xilinx/image.images-idx3-ubyte\")"
   ]
  },
  {
   "cell_type": "markdown",
   "metadata": {
    "deletable": true,
    "editable": true
   },
   "source": [
    "# 7. Launching BNN in software\n",
    "The inference on the same image is performed in sofware on the ARM core"
   ]
  },
  {
   "cell_type": "code",
   "execution_count": null,
   "metadata": {
    "collapsed": false,
    "deletable": true,
    "editable": true
   },
   "outputs": [],
   "source": [
    "classifier_sw3 = bnn.PynqBNN(network=bnn.NETWORK_LFC,runtime=bnn.RUNTIME_SW)\n",
    "classifier_sw3.load_parameters(\"mnist\")\n",
    "classifier_sw3.inference(\"/home/xilinx/image.images-idx3-ubyte\")"
   ]
  },
  {
   "cell_type": "markdown",
   "metadata": {
    "collapsed": true,
    "deletable": true,
    "editable": true
   },
   "source": [
    "# 8. Launching classification in HW with different network\n",
    "The image is passed in the PL and the inference is performed using the CNV network trained on the Street View house number dataset"
   ]
  },
  {
   "cell_type": "code",
   "execution_count": null,
   "metadata": {
    "collapsed": false,
    "deletable": true,
    "editable": true
   },
   "outputs": [],
   "source": [
    "from IPython.display import display\n",
    "img = PIL_Image.open(orig_img_path).rotate(180)\n",
    "display(img)\n",
    "classifier_cnv = bnn.CnvClassifier('streetview')\n",
    "class_out=classifier_cnv.classify_image(img)\n",
    "print(\"Class name: {0}\".format(classifier_cnv.class_name(class_out)))"
   ]
  },
  {
   "cell_type": "code",
   "execution_count": null,
   "metadata": {
    "collapsed": true
   },
   "outputs": [],
   "source": []
  }
 ],
 "metadata": {
  "celltoolbar": "Raw Cell Format",
  "kernelspec": {
   "display_name": "Python 3",
   "language": "python",
   "name": "python3"
  },
  "language_info": {
   "codemirror_mode": {
    "name": "ipython",
    "version": 3
   },
   "file_extension": ".py",
   "mimetype": "text/x-python",
   "name": "python",
   "nbconvert_exporter": "python",
   "pygments_lexer": "ipython3",
   "version": "3.6.0"
  }
 },
 "nbformat": 4,
 "nbformat_minor": 1
}
